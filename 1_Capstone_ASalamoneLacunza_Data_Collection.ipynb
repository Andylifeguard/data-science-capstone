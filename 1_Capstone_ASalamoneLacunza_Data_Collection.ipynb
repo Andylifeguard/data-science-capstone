{
  "metadata": {
    "kernelspec": {
      "display_name": "Python 3",
      "language": "python",
      "name": "python3"
    },
    "language_info": {
      "codemirror_mode": {
        "name": "ipython",
        "version": 3
      },
      "file_extension": ".py",
      "mimetype": "text/x-python",
      "name": "python",
      "nbconvert_exporter": "python",
      "pygments_lexer": "ipython3",
      "version": "3.8.10"
    }
  },
  "nbformat": 4,
  "nbformat_minor": 5,
  "cells": [
    {
      "cell_type": "markdown",
      "metadata": {},
      "source": [
        "<p style=\"text-align:center\">\n",
        "    <a href=\"https://skills.network/?utm_medium=Exinfluencer&utm_source=Exinfluencer&utm_content=000026UJ&utm_term=10006555&utm_id=NA-SkillsNetwork-Channel-SkillsNetworkCoursesIBMDS0321ENSkillsNetwork26802033-2022-01-01\" target=\"_blank\">\n",
        "    <img src=\"https://cf-courses-data.s3.us.cloud-object-storage.appdomain.cloud/assets/logos/SN_web_lightmode.png\" width=\"200\" alt=\"Skills Network Logo\"  />\n",
        "    </a>\n",
        "</p>\n"
      ]
    },
    {
      "cell_type": "markdown",
      "metadata": {},
      "source": [
        "<h1 style=\"text-align:left;padding:12px;border-radius:4px;color:#fff;margin-top:16px;background:linear-gradient(90deg,#114477,#114477,#000);box-shadow:0 0 0px #333;\">Andrés Salamone Lacunza</h1>"
      ]
    },
    {
      "cell_type": "markdown",
      "metadata": {
        "tags": []
      },
      "source": [
        "> **Date Completed:** 2025-05-21\n",
        "> **Note:** This notebook is an adaptation of the original work by JonathanMClark, modified to reflect my own contributions and updates for the IBM Data Science Professional Certificate Capstone Project."
      ]
    },
    {
      "cell_type": "markdown",
      "metadata": {
        "tags": []
      },
      "source": [
        "# **SpaceX Falcon 9 First Stage Landing Prediction**\n",
        "## Lab 1: Collecting the Data"
      ]
    },
    {
      "cell_type": "markdown",
      "metadata": {},
      "source": [
        "Estimated time needed: **45** minutes\n"
      ]
    },
    {
      "cell_type": "markdown",
      "metadata": {},
      "source": [
        "In this capstone, we will predict if the Falcon 9 first stage will land successfully. SpaceX advertises Falcon 9 rocket launches on its website with a cost of 62 million dollars; other providers cost upward of 165 million dollars each, much of the savings is because SpaceX can reuse the first stage. Therefore if we can determine if the first stage will land, we can determine the cost of a launch. This information can be used if an alternate company wants to bid against SpaceX for a rocket launch. In this lab, you will collect and make sure the data is in the correct format from an API. The following is an example of a successful launch.\n"
      ]
    },
    {
      "cell_type": "markdown",
      "metadata": {},
      "source": [
        "#### Successful Landing Example\n",
        "![Successful Landing](images/successful_landing.jpg)\n",
        "\n",
        "**Note:** You need to upload an image of a successful Falcon 9 landing to your GitHub repository in the `images/` folder and update the link above accordingly."
      ]
    },
    {
      "cell_type": "markdown",
      "metadata": {},
      "source": [
        "Several examples of an unsuccessful landing are shown here:\n"
      ]
    },
    {
      "cell_type": "markdown",
      "metadata": {},
      "source": [
        "![Unsuccessful Landing](images/unsuccessful_landing.jpg)\n",
        "\n",
        "**Note:** You need to upload an image of an unsuccessful Falcon 9 landing to your GitHub repository in the `images/` folder and update the link above accordingly.\n",
        "\n",
        "Most unsuccessful landings are planned. SpaceX performs a controlled landing in the oceans.\n"
      ]
    },
    {
      "cell_type": "markdown",
      "metadata": {},
      "source": [
        "<h3 style=\"width:50%;padding:12px;border-radius:4px;color:#fff;margin-top:16px;background:linear-gradient(90deg,#992200,#000);box-shadow:0 0 0px #333;\">Objectives</h3>"
      ]
    },
    {
      "cell_type": "markdown",
      "metadata": {},
      "source": [
        "* Get data from SpaceX API\n",
        "* Clean/Wrangle/Format the data set"
      ]
    },
    {
      "cell_type": "markdown",
      "metadata": {},
      "source": [
        "<h3 style=\"width:50%;padding:12px;border-radius:4px;color:#fff;margin-top:16px;background:linear-gradient(90deg,#009922,#000);box-shadow:0 0 0px #333;\">Import Libraries</h3>"
      ]
    },
    {
      "cell_type": "code",
      "execution_count": 1,
      "metadata": {},
      "outputs": [
        {
          "name": "stdout",
          "output_type": "stream",
          "text": [
            "All libraries have been imported.\n"
          ]
        }
      ],
      "source": [
        "import requests\n",
        "import pandas as pd\n",
        "import numpy as np\n",
        "import datetime\n",
        "\n",
        "# Configure pandas to display all columns and full column content for better visibility of the data\n",
        "pd.set_option('display.max_columns', None)\n",
        "pd.set_option('display.max_colwidth', None)\n",
        "\n",
        "print(\"All libraries have been imported.\")"
      ]
    },
    {
      "cell_type": "markdown",
      "metadata": {},
      "source": [
        "<h3 style=\"width:50%;padding:12px;border-radius:4px;color:#fff;margin-top:16px;background:linear-gradient(90deg,#009922,#000);box-shadow:0 0 0px #333;\">Define Useful Functions</h3>"
      ]
    },
    {
      "cell_type": "markdown",
      "metadata": {},
      "source": [
        "> **Note** <br>\n",
        "> These code bits were provided."
      ]
    },
    {
      "cell_type": "code",
      "execution_count": 2,
      "metadata": {},
      "outputs": [],
      "source": [
        "# NOTE: This code was provided.\n",
        "# Takes the dataset and uses the rocket column to call the API and append the booster version to the DataFrame\n",
        "def getBoosterVersion(data):\n",
        "    for x in data['rocket']:\n",
        "       if x:\n",
        "        response = requests.get(\"https://api.spacexdata.com/v4/rockets/\"+str(x)).json()\n",
        "        BoosterVersion.append(response['name'])"
      ]
    },
    {
      "cell_type": "markdown",
      "metadata": {},
      "source": [
        "From the <code>launchpad</code> we would like to know the name of the launch site being used, the longitude, and the latitude.\n"
      ]
    },
    {
      "cell_type": "code",
      "execution_count": 3,
      "metadata": {},
      "outputs": [],
      "source": [
        "# NOTE: This code was provided.\n",
        "# Takes the dataset and uses the launchpad column to call the API and append the latitude and longitude to the DataFrame\n",
        "def getLaunchSite(data):\n",
        "    for x in data['launchpad']:\n",
        "       if x:\n",
        "         response = requests.get(\"https://api.spacexdata.com/v4/launchpads/\"+str(x)).json()\n",
        "         Longitude.append(response['longitude'])\n",
        "         Latitude.append(response['latitude'])\n",
        "         LaunchSite.append(response['name'])"
      ]
    },
    {
      "cell_type": "markdown",
      "metadata": {},
      "source": [
        "From the <code>payload</code> we would like to learn the mass of the payload and the orbit that it is going to.\n"
      ]
    },
    {
      "cell_type": "code",
      "execution_count": 4,
      "metadata": {},
      "outputs": [],
      "source": [
        "# NOTE: This code was provided.\n",
        "# Takes the dataset and uses the payloads column to call the API and append the payload mass to the DataFrame\n",
        "def getPayloadData(data):\n",
        "    for load in data['payloads']:\n",
        "       if load:\n",
        "        response = requests.get(\"https://api.spacexdata.com/v4/payloads/\"+load).json()\n",
        "        PayloadMass.append(response['mass_kg'])\n",
        "        Orbit.append(response['orbit'])"
      ]
    },
    {
      "cell_type": "markdown",
      "metadata": {},
      "source": [
        "From <code>cores</code> we would like to learn the outcome of the landing, the type of the landing, number of flights with that core, whether gridfins were used, whether the core is reused, whether legs were used, the landing pad used, the block of the core which is a number used to separate version of cores, the number of times this specific core has been reused, and the serial of the core.\n"
      ]
    },
    {
      "cell_type": "code",
      "execution_count": 5,
      "metadata": {},
      "outputs": [],
      "source": [
        "# NOTE: This code was provided.\n",
        "# Takes the dataset and uses the cores column to call the API and append the data about the cores to the DataFrame\n",
        "def getCoreData(data):\n",
        "    for core in data['cores']:\n",
        "            if core['core'] != None:\n",
        "                response = requests.get(\"https://api.spacexdata.com/v4/cores/\"+core['core']).json()\n",
        "                Block.append(response['block'])\n",
        "                ReusedCount.append(response['reuse_count'])\n",
        "                Serial.append(response['serial'])\n",
        "            else:\n",
        "                Block.append(None)\n",
        "                ReusedCount.append(None)\n",
        "                Serial.append(None)\n",
        "            Outcome.append(str(core['landing_success'])+' '+str(core['landing_type']))\n",
        "            Flights.append(core['flight'])\n",
        "            GridFins.append(core['gridfins'])\n",
        "            Reused.append(core['reused'])\n",
        "            Legs.append(core['legs'])\n",
        "            LandingPad.append(core['landpad'])"
      ]
    },
    {
      "cell_type": "markdown",
      "metadata": {},
      "source": [
        "<h3 style=\"width:50%;padding:12px;border-radius:4px;color:#fff;margin-top:16px;background:linear-gradient(90deg,#0099bb,#000);box-shadow:0 0 0px #333;\">Start Here</h3>"
      ]
    },
    {
      "cell_type": "markdown",
      "metadata": {},
      "source": [
        "<h3 style=\"width:50%;padding:12px;border-radius:4px;color:#fff;margin-top:16px;background:linear-gradient(90deg,#009922,#000);box-shadow:0 0 0px #333;\">DataFrame of Launch Data - All</h3>"
      ]
    },
    {
      "cell_type": "markdown",
      "metadata": {},
      "source": [
        "<h3 style=\"width:15%;padding:4px 16px 4px 32px;border-radius:4px;color:#fff;margin-top:6px;background:linear-gradient(90deg,#ff5500,#551100,#ff5500);box-shadow:0 0 0px #333;text-align:center;\">Task 1</h3>"
      ]
    },
    {
      "cell_type": "markdown",
      "metadata": {},
      "source": [
        "### Task 1: Request and Parse the SpaceX Launch Data Using the GET Request\n"
      ]
    },
    {
      "cell_type": "code",
      "execution_count": 6,
      "metadata": {},
      "outputs": [],
      "source": [
        "# Convert JSON file into DataFrame\n",
        "static_json_url = 'https://cf-courses-data.s3.us.cloud-object-storage.appdomain.cloud/IBM-DS0321EN-SkillsNetwork/datasets/API_call_spacex_api.json'\n",
        "response = requests.get(static_json_url)\n",
        "response_json = response.json()\n",
        "data_initial = pd.json_normalize(response_json)\n",
        "data_initial.head(1)"
      ]
    },
    {
      "cell_type": "code",
      "execution_count": 7,
      "metadata": {},
      "outputs": [],
      "source": [
        "data_initial.shape"
      ]
    },
    {
      "cell_type": "code",
      "execution_count": 8,
      "metadata": {},
      "outputs": [],
      "source": [
        "# View column names\n",
        "pd.DataFrame(data_initial.columns)"
      ]
    },
    {
      "cell_type": "markdown",
      "metadata": {},
      "source": [
        "**Comentario personal:** En esta tarea, utilicé la API proporcionada para recolectar datos de lanzamientos de SpaceX y los convertí en un DataFrame usando `pd.json_normalize`. Aprendí cómo manejar datos JSON y extraer información relevante para análisis posteriores.\n"
      ]
    },
    {
      "cell_type": "markdown",
      "metadata": {},
      "source": [
        "<h3 style=\"width:50%;padding:12px;border-radius:4px;color:#fff;margin-top:16px;background:linear-gradient(90deg,#009922,#000);box-shadow:0 0 0px #333;\">DataFrame of Launch Data - Selected Information</h3>"
      ]
    },
    {
      "cell_type": "markdown",
      "metadata": {},
      "source": [
        "You will notice that a lot of the data are IDs. For example the rocket column has no information about the rocket just an identification number.\n",
        "\n",
        "We will now use the API again to get information about the launches using the IDs given for each launch. Specifically we will be using columns <code>rocket</code>, <code>payloads</code>, <code>launchpad</code>, and <code>cores</code>.\n"
      ]
    },
    {
      "cell_type": "code",
      "execution_count": 9,
      "metadata": {},
      "outputs": [],
      "source": [
        "# Lets take a subset of our dataframe keeping only the features we want and the flight number, and date_utc.\n",
        "data = data_initial[['rocket', 'payloads', 'launchpad', 'cores', 'flight_number', 'date_utc']]\n",
        "\n",
        "# We will remove rows with multiple cores because those are falcon rockets with 2 extra rocket boosters and rows that have multiple payloads in a single rocket.\n",
        "data = data[data['cores'].map(len)==1]\n",
        "data = data[data['payloads'].map(len)==1]\n",
        "\n",
        "# Since payloads and cores are lists of size 1 we will also extract the single value in the list and replace the feature.\n",
        "data['cores'] = data['cores'].map(lambda x : x[0])\n",
        "data['payloads'] = data['payloads'].map(lambda x : x[0])\n",
        "\n",
        "# We also want to convert the date_utc to a datetime datatype and then extracting the date leaving the time\n",
        "data['date'] = pd.to_datetime(data['date_utc']).dt.date\n",
        "\n",
        "# Using the date we will restrict the dates of the launches\n",
        "data = data[data['date'] <= datetime.date(2020, 11, 13)]"
      ]
    },
    {
      "cell_type": "markdown",
      "metadata": {},
      "source": [
        "* From the <code>rocket</code> we would like to learn the booster name\n",
        "\n",
        "* From the <code>payload</code> we would like to learn the mass of the payload and the orbit that it is going to\n",
        "\n",
        "* From the <code>launchpad</code> we would like to know the name of the launch site being used, the longitude, and the latitude.\n",
        "\n",
        "* From <code>cores</code> we would like to learn the outcome of the landing, the type of the landing, number of flights with that core, whether gridfins were used, whether the core is reused, whether legs were used, the landing pad used, the block of the core which is a number used to separate version of cores, the number of times this specific core has been reused, and the serial of the core.\n",
        "\n",
        "The data from these requests will be stored in lists and will be used to create a new dataframe.\n"
      ]
    },
    {
      "cell_type": "code",
      "execution_count": 10,
      "metadata": {},
      "outputs": [],
      "source": [
        "# Set global variables to be empty lists\n",
        "BoosterVersion = []\n",
        "PayloadMass = []\n",
        "Orbit = []\n",
        "LaunchSite = []\n",
        "Outcome = []\n",
        "Flights = []\n",
        "GridFins = []\n",
        "Reused = []\n",
        "Legs = []\n",
        "LandingPad = []\n",
        "Block = []\n",
        "ReusedCount = []\n",
        "Serial = []\n",
        "Longitude = []\n",
        "Latitude = []"
      ]
    },
    {
      "cell_type": "code",
      "execution_count": 11,
      "metadata": {},
      "outputs": [],
      "source": [
        "# Confirm list to be empty\n",
        "BoosterVersion"
      ]
    },
    {
      "cell_type": "code",
      "execution_count": 12,
      "metadata": {},
      "outputs": [],
      "source": [
        "# Call getBoosterVersion\n",
        "getBoosterVersion(data)"
      ]
    },
    {
      "cell_type": "code",
      "execution_count": 13,
      "metadata": {},
      "outputs": [],
      "source": [
        "# Call getLaunchSite\n",
        "getLaunchSite(data)"
      ]
    },
    {
      "cell_type": "code",
      "execution_count": 14,
      "metadata": {},
      "outputs": [],
      "source": [
        "# Call getPayloadData\n",
        "getPayloadData(data)"
      ]
    },
    {
      "cell_type": "code",
      "execution_count": 15,
      "metadata": {},
      "outputs": [],
      "source": [
        "# Call getCoreData\n",
        "getCoreData(data)"
      ]
    },
    {
      "cell_type": "code",
      "execution_count": 16,
      "metadata": {},
      "outputs": [],
      "source": [
        "# The lists have now been updated\n",
        "BoosterVersion[0:5]"
      ]
    },
    {
      "cell_type": "code",
      "execution_count": 17,
      "metadata": {},
      "outputs": [],
      "source": [
        "# Combine the columns into a dictionary\n",
        "launch_dict = {'FlightNumber': list(data['flight_number']),\n",
        "               'Date': list(data['date']),\n",
        "               'BoosterVersion': BoosterVersion,\n",
        "               'PayloadMass': PayloadMass,\n",
        "               'Orbit': Orbit,\n",
        "               'LaunchSite': LaunchSite,\n",
        "               'Outcome': Outcome,\n",
        "               'Flights': Flights,\n",
        "               'GridFins': GridFins,\n",
        "               'Reused': Reused,\n",
        "               'Legs': Legs,\n",
        "               'LandingPad': LandingPad,\n",
        "               'Block': Block,\n",
        "               'ReusedCount': ReusedCount,\n",
        "               'Serial': Serial,\n",
        "               'Longitude': Longitude,\n",
        "               'Latitude': Latitude}"
      ]
    },
    {
      "cell_type": "code",
      "execution_count": 18,
      "metadata": {},
      "outputs": [],
      "source": [
        "# Create a DataFrame from launch_dict\n",
        "launch_df = pd.DataFrame(launch_dict)\n",
        "launch_df.head(3)"
      ]
    },
    {
      "cell_type": "code",
      "execution_count": 19,
      "metadata": {},
      "outputs": [],
      "source": [
        "launch_df.shape"
      ]
    },
    {
      "cell_type": "markdown",
      "metadata": {},
      "source": [
        "<h3 style=\"width:15%;padding:4px 16px 4px 32px;border-radius:4px;color:#fff;margin-top:6px;background:linear-gradient(90deg,#ff5500,#551100,#ff5500);box-shadow:0 0 0px #333;text-align:center;\">Task 2</h3>"
      ]
    },
    {
      "cell_type": "markdown",
      "metadata": {},
      "source": [
        "### Task 2: Filter the DataFrame to Only Include `Falcon 9` Launches\n"
      ]
    },
    {
      "cell_type": "code",
      "execution_count": 20,
      "metadata": {},
      "outputs": [],
      "source": [
        "# Quantify types of booster versions.\n",
        "launch_df['BoosterVersion'].value_counts()"
      ]
    },
    {
      "cell_type": "code",
      "execution_count": 21,
      "metadata": {},
      "outputs": [],
      "source": [
        "# Filter launches to include only Falcon 9\n",
        "data_falcon_9 = launch_df.loc[launch_df['BoosterVersion'].isin(['Falcon 9'])].copy()\n",
        "\n",
        "# Reset the FlightNumber column\n",
        "data_falcon_9['FlightNumber'] = list(range(1, data_falcon_9.shape[0]+1))\n",
        "data_falcon_9.head(2)"
      ]
    },
    {
      "cell_type": "code",
      "execution_count": 22,
      "metadata": {},
      "outputs": [],
      "source": [
        "# Confirm that only the Falcon 9 booster is included.\n",
        "data_falcon_9['BoosterVersion'].value_counts()"
      ]
    },
    {
      "cell_type": "markdown",
      "metadata": {},
      "source": [
        "**Comentario personal:** Filtré los datos para incluir solo lanzamientos de Falcon 9, lo que me permitió enfocarme en el objetivo del proyecto. También ajusté el índice de `FlightNumber` para que fuera secuencial, lo que facilita el seguimiento de los lanzamientos.\n"
      ]
    },
    {
      "cell_type": "code",
      "execution_count": 23,
      "metadata": {},
      "outputs": [],
      "source": [
        "data_falcon_9.shape"
      ]
    },
    {
      "cell_type": "code",
      "execution_count": 24,
      "metadata": {},
      "outputs": [],
      "source": [
        "data_falcon_9.describe()"
      ]
    },
    {
      "cell_type": "markdown",
      "metadata": {},
      "source": [
        "## Data Wrangling\n"
      ]
    },
    {
      "cell_type": "code",
      "execution_count": 25,
      "metadata": {},
      "outputs": [],
      "source": [
        "# There are some missing values in the dataset\n",
        "data_falcon_9.isnull().sum()"
      ]
    },
    {
      "cell_type": "markdown",
      "metadata": {},
      "source": [
        "<h3 style=\"width:15%;padding:4px 16px 4px 32px;border-radius:4px;color:#fff;margin-top:6px;background:linear-gradient(90deg,#ff5500,#551100,#ff5500);box-shadow:0 0 0px #333;text-align:center;\">Task 3</h3>"
      ]
    },
    {
      "cell_type": "markdown",
      "metadata": {},
      "source": [
        "### Task 3: Dealing with Missing Values\n"
      ]
    },
    {
      "cell_type": "markdown",
      "metadata": {},
      "source": [
        "Calculate below the mean for the <code>PayloadMass</code> using the <code>.mean()</code>. Then use the mean and the <code>.replace()</code> function to replace `np.nan` values in the data with the mean you calculated. The <code>LandingPad</code> column will retain None values to represent when landing pads were not used.\n"
      ]
    },
    {
      "cell_type": "code",
      "execution_count": 26,
      "metadata": {},
      "outputs": [],
      "source": [
        "# Calculate the mean value of the values in the PayloadMass column and replace the np.nan values with this mean value\n",
        "mean = data_falcon_9['PayloadMass'].mean()\n",
        "data_falcon_9['PayloadMass'] = data_falcon_9['PayloadMass'].replace(np.nan, mean)"
      ]
    },
    {
      "cell_type": "code",
      "execution_count": 27,
      "metadata": {},
      "outputs": [],
      "source": [
        "# There are now no missing values for 'PayloadMass'. We keep the 'None' values in the 'LandingPad' column to represent when landing pads were not used.\n",
        "data_falcon_9.isnull().sum()"
      ]
    },
    {
      "cell_type": "markdown",
      "metadata": {},
      "source": [
        "**Comentario personal:** Manejar valores nulos fue un paso importante para asegurar la calidad de los datos. Reemplacé los valores nulos en `PayloadMass` con la media, lo que me permitió mantener la integridad del conjunto de datos para análisis futuros.\n"
      ]
    },
    {
      "cell_type": "markdown",
      "metadata": {},
      "source": [
        "<h3 style=\"width:50%;padding:12px;border-radius:4px;color:#fff;margin-top:16px;background:linear-gradient(90deg,#009922,#000);box-shadow:0 0 0px #333;\">Export DataFrame to .CSV</h3>"
      ]
    },
    {
      "cell_type": "markdown",
      "metadata": {},
      "source": [
        "> **Note** <br>\n",
        "> dataset_part_1.csv"
      ]
    },
    {
      "cell_type": "code",
      "execution_count": 28,
      "metadata": {},
      "outputs": [],
      "source": [
        "# Export DataFrame as .csv\n",
        "data_falcon_9.to_csv('dataset_part_1.csv', index=False)"
      ]
    }
  ]
}
